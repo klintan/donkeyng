{
 "cells": [
  {
   "cell_type": "code",
   "execution_count": 1,
   "metadata": {},
   "outputs": [
    {
     "name": "stdout",
     "output_type": "stream",
     "text": [
      "using donkey v2.2.1 ...\n"
     ]
    }
   ],
   "source": [
    "import pandas as pd\n",
    "from donkeycar.parts.datastore import TubGroup, TubHandler\n",
    "\n",
    "import numpy as np"
   ]
  },
  {
   "cell_type": "code",
   "execution_count": 2,
   "metadata": {},
   "outputs": [],
   "source": [
    "tub_names = \"./data/rally_A_01,./data/rally_A_02\""
   ]
  },
  {
   "cell_type": "code",
   "execution_count": 3,
   "metadata": {},
   "outputs": [
    {
     "name": "stdout",
     "output_type": "stream",
     "text": [
      "TubGroup:tubpaths: ['/Users/admin/personal/donkeyng/data/rally_A_01', '/Users/admin/personal/donkeyng/data/rally_A_02']\n",
      "path_in_tub: /Users/admin/personal/donkeyng/data/rally_A_01\n",
      "Tub exists: /Users/admin/personal/donkeyng/data/rally_A_01\n",
      "path_in_tub: /Users/admin/personal/donkeyng/data/rally_A_02\n",
      "Tub exists: /Users/admin/personal/donkeyng/data/rally_A_02\n",
      "joining the tubs 10005 records together. This could take 0 minutes.\n"
     ]
    }
   ],
   "source": [
    "if not tub_names:\n",
    "    tub_names = os.path.join(cfg.DATA_PATH, '*')\n",
    "tubgroup = TubGroup(tub_names)"
   ]
  },
  {
   "cell_type": "code",
   "execution_count": 4,
   "metadata": {},
   "outputs": [],
   "source": [
    "df = tubgroup.df"
   ]
  },
  {
   "cell_type": "code",
   "execution_count": 5,
   "metadata": {},
   "outputs": [
    {
     "data": {
      "text/html": [
       "<div>\n",
       "<style scoped>\n",
       "    .dataframe tbody tr th:only-of-type {\n",
       "        vertical-align: middle;\n",
       "    }\n",
       "\n",
       "    .dataframe tbody tr th {\n",
       "        vertical-align: top;\n",
       "    }\n",
       "\n",
       "    .dataframe thead th {\n",
       "        text-align: right;\n",
       "    }\n",
       "</style>\n",
       "<table border=\"1\" class=\"dataframe\">\n",
       "  <thead>\n",
       "    <tr style=\"text-align: right;\">\n",
       "      <th></th>\n",
       "      <th>cam/image_array</th>\n",
       "      <th>user/angle</th>\n",
       "      <th>user/mode</th>\n",
       "      <th>user/throttle</th>\n",
       "    </tr>\n",
       "  </thead>\n",
       "  <tbody>\n",
       "    <tr>\n",
       "      <th>0</th>\n",
       "      <td>/Users/admin/personal/donkeyng/data/rally_A_01...</td>\n",
       "      <td>0.327203</td>\n",
       "      <td>user</td>\n",
       "      <td>0.468796</td>\n",
       "    </tr>\n",
       "    <tr>\n",
       "      <th>1</th>\n",
       "      <td>/Users/admin/personal/donkeyng/data/rally_A_01...</td>\n",
       "      <td>0.334293</td>\n",
       "      <td>user</td>\n",
       "      <td>0.511960</td>\n",
       "    </tr>\n",
       "    <tr>\n",
       "      <th>2</th>\n",
       "      <td>/Users/admin/personal/donkeyng/data/rally_A_01...</td>\n",
       "      <td>0.334293</td>\n",
       "      <td>user</td>\n",
       "      <td>0.511960</td>\n",
       "    </tr>\n",
       "    <tr>\n",
       "      <th>3</th>\n",
       "      <td>/Users/admin/personal/donkeyng/data/rally_A_01...</td>\n",
       "      <td>0.334293</td>\n",
       "      <td>user</td>\n",
       "      <td>0.511960</td>\n",
       "    </tr>\n",
       "    <tr>\n",
       "      <th>4</th>\n",
       "      <td>/Users/admin/personal/donkeyng/data/rally_A_01...</td>\n",
       "      <td>0.334293</td>\n",
       "      <td>user</td>\n",
       "      <td>0.511960</td>\n",
       "    </tr>\n",
       "  </tbody>\n",
       "</table>\n",
       "</div>"
      ],
      "text/plain": [
       "                                     cam/image_array  user/angle user/mode  \\\n",
       "0  /Users/admin/personal/donkeyng/data/rally_A_01...    0.327203      user   \n",
       "1  /Users/admin/personal/donkeyng/data/rally_A_01...    0.334293      user   \n",
       "2  /Users/admin/personal/donkeyng/data/rally_A_01...    0.334293      user   \n",
       "3  /Users/admin/personal/donkeyng/data/rally_A_01...    0.334293      user   \n",
       "4  /Users/admin/personal/donkeyng/data/rally_A_01...    0.334293      user   \n",
       "\n",
       "   user/throttle  \n",
       "0       0.468796  \n",
       "1       0.511960  \n",
       "2       0.511960  \n",
       "3       0.511960  \n",
       "4       0.511960  "
      ]
     },
     "execution_count": 5,
     "metadata": {},
     "output_type": "execute_result"
    }
   ],
   "source": [
    "df.head()"
   ]
  },
  {
   "cell_type": "code",
   "execution_count": 8,
   "metadata": {
    "scrolled": true
   },
   "outputs": [],
   "source": [
    "df = df.assign(angle_15 = np.zeros(len(df.index)))\n",
    "df = df.assign(angle_30 = np.zeros(len(df.index)))\n",
    "\n",
    "df.reset_index()\n",
    "for i in range(0,len(df.index)):\n",
    "    if i+30 <= max(df.index):\n",
    "        df.at[i, 'angle_15'] = df['user/angle'].iloc[i+15]\n",
    "        df.at[i, 'angle_30'] = df['user/angle'].iloc[i+30]\n"
   ]
  },
  {
   "cell_type": "code",
   "execution_count": 9,
   "metadata": {},
   "outputs": [
    {
     "data": {
      "text/html": [
       "<div>\n",
       "<style scoped>\n",
       "    .dataframe tbody tr th:only-of-type {\n",
       "        vertical-align: middle;\n",
       "    }\n",
       "\n",
       "    .dataframe tbody tr th {\n",
       "        vertical-align: top;\n",
       "    }\n",
       "\n",
       "    .dataframe thead th {\n",
       "        text-align: right;\n",
       "    }\n",
       "</style>\n",
       "<table border=\"1\" class=\"dataframe\">\n",
       "  <thead>\n",
       "    <tr style=\"text-align: right;\">\n",
       "      <th></th>\n",
       "      <th>cam/image_array</th>\n",
       "      <th>user/angle</th>\n",
       "      <th>user/mode</th>\n",
       "      <th>user/throttle</th>\n",
       "      <th>angle_15</th>\n",
       "      <th>angle_30</th>\n",
       "    </tr>\n",
       "  </thead>\n",
       "  <tbody>\n",
       "    <tr>\n",
       "      <th>0</th>\n",
       "      <td>/Users/admin/personal/donkeyng/data/rally_A_01...</td>\n",
       "      <td>0.327203</td>\n",
       "      <td>user</td>\n",
       "      <td>0.468796</td>\n",
       "      <td>0.273475</td>\n",
       "      <td>0.274002</td>\n",
       "    </tr>\n",
       "    <tr>\n",
       "      <th>1</th>\n",
       "      <td>/Users/admin/personal/donkeyng/data/rally_A_01...</td>\n",
       "      <td>0.334293</td>\n",
       "      <td>user</td>\n",
       "      <td>0.511960</td>\n",
       "      <td>0.273475</td>\n",
       "      <td>0.274002</td>\n",
       "    </tr>\n",
       "    <tr>\n",
       "      <th>2</th>\n",
       "      <td>/Users/admin/personal/donkeyng/data/rally_A_01...</td>\n",
       "      <td>0.334293</td>\n",
       "      <td>user</td>\n",
       "      <td>0.511960</td>\n",
       "      <td>0.270746</td>\n",
       "      <td>0.274002</td>\n",
       "    </tr>\n",
       "    <tr>\n",
       "      <th>3</th>\n",
       "      <td>/Users/admin/personal/donkeyng/data/rally_A_01...</td>\n",
       "      <td>0.334293</td>\n",
       "      <td>user</td>\n",
       "      <td>0.511960</td>\n",
       "      <td>0.247341</td>\n",
       "      <td>0.274002</td>\n",
       "    </tr>\n",
       "    <tr>\n",
       "      <th>4</th>\n",
       "      <td>/Users/admin/personal/donkeyng/data/rally_A_01...</td>\n",
       "      <td>0.334293</td>\n",
       "      <td>user</td>\n",
       "      <td>0.511960</td>\n",
       "      <td>0.247341</td>\n",
       "      <td>0.290320</td>\n",
       "    </tr>\n",
       "  </tbody>\n",
       "</table>\n",
       "</div>"
      ],
      "text/plain": [
       "                                     cam/image_array  user/angle user/mode  \\\n",
       "0  /Users/admin/personal/donkeyng/data/rally_A_01...    0.327203      user   \n",
       "1  /Users/admin/personal/donkeyng/data/rally_A_01...    0.334293      user   \n",
       "2  /Users/admin/personal/donkeyng/data/rally_A_01...    0.334293      user   \n",
       "3  /Users/admin/personal/donkeyng/data/rally_A_01...    0.334293      user   \n",
       "4  /Users/admin/personal/donkeyng/data/rally_A_01...    0.334293      user   \n",
       "\n",
       "   user/throttle  angle_15  angle_30  \n",
       "0       0.468796  0.273475  0.274002  \n",
       "1       0.511960  0.273475  0.274002  \n",
       "2       0.511960  0.270746  0.274002  \n",
       "3       0.511960  0.247341  0.274002  \n",
       "4       0.511960  0.247341  0.290320  "
      ]
     },
     "execution_count": 9,
     "metadata": {},
     "output_type": "execute_result"
    }
   ],
   "source": [
    "df.head()"
   ]
  }
 ],
 "metadata": {
  "kernelspec": {
   "display_name": "Python 3",
   "language": "python",
   "name": "python3"
  },
  "language_info": {
   "codemirror_mode": {
    "name": "ipython",
    "version": 3
   },
   "file_extension": ".py",
   "mimetype": "text/x-python",
   "name": "python",
   "nbconvert_exporter": "python",
   "pygments_lexer": "ipython3",
   "version": "3.6.3"
  }
 },
 "nbformat": 4,
 "nbformat_minor": 2
}
